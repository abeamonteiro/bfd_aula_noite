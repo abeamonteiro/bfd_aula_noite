{
 "cells": [
  {
   "cell_type": "markdown",
   "id": "5d2f544b",
   "metadata": {},
   "source": [
    "1. Crie uma função chamada `saudacao` que imprime na tela a mensagem **\"Olá, bem-vindo ao Python!\"**. Em seguida, chame a função no programa."
   ]
  },
  {
   "cell_type": "code",
   "execution_count": 1,
   "id": "86846019",
   "metadata": {},
   "outputs": [
    {
     "name": "stdout",
     "output_type": "stream",
     "text": [
      "Olá, tudo bem?\n"
     ]
    }
   ],
   "source": [
    "def saudacao():\n",
    "   print(\"Olá, tudo bem?\") # o ideal é usar o return para passar a informação que a função pretende\n",
    "   \n",
    "saudacao()"
   ]
  },
  {
   "cell_type": "markdown",
   "id": "2b40ddf3",
   "metadata": {},
   "source": [
    "2. Crie uma função chamada `dobro` que recebe um número como parâmetro e retorna o dobro desse número. Teste chamando a função com diferentes valores."
   ]
  },
  {
   "cell_type": "code",
   "execution_count": 4,
   "id": "774c0e6e",
   "metadata": {},
   "outputs": [
    {
     "name": "stdout",
     "output_type": "stream",
     "text": [
      "O dobro do número indicado é 14\n"
     ]
    }
   ],
   "source": [
    "num1 = int(input(\"Digite um número: \"))\n",
    "\n",
    "def dobro(num):\n",
    "      return num*2\n",
    "\n",
    "print(\"O dobro do número indicado é\", (dobro(num1)))"
   ]
  },
  {
   "cell_type": "markdown",
   "id": "f0f106a0",
   "metadata": {},
   "source": [
    "3. Crie uma função chamada `soma` que receba dois números e retorne a soma deles. Depois, use a função para somar **10 + 20**."
   ]
  },
  {
   "cell_type": "code",
   "execution_count": 26,
   "id": "045e7b18",
   "metadata": {},
   "outputs": [
    {
     "name": "stdout",
     "output_type": "stream",
     "text": [
      "A soma dos números indicados é  13\n"
     ]
    }
   ],
   "source": [
    "num1 = int(input(\"Digite um número: \"))\n",
    "num2 = int(input(\"Digite mais um número: \"))\n",
    "\n",
    "def soma(x,y):\n",
    "    return (x+y)\n",
    "\n",
    "print(\"A soma dos números indicados é \", soma(num1, num2))"
   ]
  },
  {
   "cell_type": "code",
   "execution_count": 27,
   "id": "c95d5f0b",
   "metadata": {},
   "outputs": [
    {
     "name": "stdout",
     "output_type": "stream",
     "text": [
      "30\n"
     ]
    }
   ],
   "source": [
    "print(soma(10,20))"
   ]
  },
  {
   "cell_type": "markdown",
   "id": "e51579f0",
   "metadata": {},
   "source": [
    "4. Crie uma função chamada `mensagem` que receba um nome como parâmetro e exiba a mensagem:\n",
    "    \"Olá, \\[nome]!\"\n",
    "    \n",
    "Caso o nome não seja informado, mostre \"Olá, visitante!\"."
   ]
  },
  {
   "cell_type": "code",
   "execution_count": 31,
   "id": "d97dc2d4",
   "metadata": {},
   "outputs": [
    {
     "name": "stdout",
     "output_type": "stream",
     "text": [
      "Olá, bea!\n"
     ]
    }
   ],
   "source": [
    "nome = input(\"Qual o seu nome?\")\n",
    "\n",
    "def mensagem(nome):\n",
    "    return f\"Olá, {nome}!\"\n",
    "\n",
    "print(mensagem(nome))"
   ]
  },
  {
   "cell_type": "markdown",
   "id": "38ed810f",
   "metadata": {},
   "source": [
    "5. Crie uma função chamada `operacoes` que receba dois números e retorne **a soma, a subtração e a multiplicação** deles."
   ]
  },
  {
   "cell_type": "code",
   "execution_count": null,
   "id": "85852a8c",
   "metadata": {},
   "outputs": [
    {
     "name": "stdout",
     "output_type": "stream",
     "text": [
      "O resultado a operação de soma é {soma}, o da subtração é {subtração} e o da multiplicação é {multiplicação}\n"
     ]
    }
   ],
   "source": [
    "num1 = int(input(\"Digite um número: \"))\n",
    "num2 = int(input(\"Digite mais um número: \"))\n",
    "\n",
    "def operacoes(som,sub, mult):\n",
    "    return(num1+num2, num2-num1, num1*num2)\n",
    "\n",
    "print(\"Os resultados, respectivamente, da soma, subtração e multiplicação é:\", operacoes(num1,num2))"
   ]
  },
  {
   "cell_type": "markdown",
   "id": "e9d5a00e",
   "metadata": {},
   "source": [
    "6. Crie uma função chamada `media` que receba uma quantidade variável de números e retorne a média deles.\n",
    "Teste com 3, 5 e 7 valores diferentes."
   ]
  },
  {
   "cell_type": "code",
   "execution_count": null,
   "id": "d71e7861",
   "metadata": {},
   "outputs": [],
   "source": [
    "\n",
    "def soma3(x,y,z):\n",
    "    return (x+y+z)\n",
    "\n",
    "media3 = (soma3 / 3)"
   ]
  },
  {
   "cell_type": "code",
   "execution_count": 7,
   "id": "d7cd68fb",
   "metadata": {},
   "outputs": [
    {
     "name": "stdout",
     "output_type": "stream",
     "text": [
      "A media3 é  5.333333333333333\n",
      "A media5 é  5.6\n",
      "A media7 é  6.857142857142857\n"
     ]
    }
   ],
   "source": [
    "def soma(*nuns):\n",
    "    resultado=0\n",
    "    for numero in nuns:\n",
    "        resultado+=numero\n",
    "    return resultado\n",
    "\n",
    "def media(*nuns):\n",
    "    total = soma(*nuns)\n",
    "    quantidade = len(nuns)\n",
    "    return total/quantidade\n",
    "\n",
    "print(\"A media3 é \", media(2, 5, 9))\n",
    "print(\"A media5 é \", media(2, 5, 9, 8, 4))\n",
    "print(\"A media7 é \", media(2, 5, 9, 8, 4, 6, 14))"
   ]
  },
  {
   "cell_type": "markdown",
   "id": "7ad13d4d",
   "metadata": {},
   "source": [
    " 7. Crie uma função chamada `dados_pessoais` que receba informações de uma pessoa (nome, idade, cidade, etc.) usando `**kwargs` e imprima cada dado em uma linha.\n",
    "   Exemplo de chamada:\n",
    "\n",
    "   dados_pessoais(nome=\"Ana\", idade=25, cidade=\"Recife\")"
   ]
  },
  {
   "cell_type": "code",
   "execution_count": null,
   "id": "ec13e19d",
   "metadata": {},
   "outputs": [],
   "source": [
    "def dados_pessoais(**kwargs):\n",
    "    print(kwargs)\n",
    "    for dados, valor in kwargs.items():\n",
    "       print(f\"{dados}: {valor}\")\n",
    "\n",
    "nome_usuario = input(\"Digite um nome:\")\n",
    "idade_usuario = input(\"Digite sua idade:\")\n",
    "profissao_usuario = input(\"Digite sua profissão:\")\n",
    "cidade_usuario = input(\"Digite sua cidade:\")\n",
    "\n",
    "dados_pessoais(nome=nome_usuario, idade=idade_usuario, profissao=profissao_usuario, cidade=cidade_usuario)"
   ]
  },
  {
   "cell_type": "markdown",
   "id": "eeb16c0f",
   "metadata": {},
   "source": [
    "8. Crie uma função chamada `calculadora` que tenha dentro dela outras funções (`somar`, `subtrair`, `multiplicar`, `dividir`).\n",
    "   A função principal deve permitir escolher a operação e retornar o resultado.\n"
   ]
  },
  {
   "cell_type": "code",
   "execution_count": null,
   "id": "e90bc785",
   "metadata": {},
   "outputs": [
    {
     "name": "stdout",
     "output_type": "stream",
     "text": [
      "30\n",
      "Operação inválida.\n",
      "Operação inválida.\n",
      "Operação inválida.\n"
     ]
    }
   ],
   "source": [
    "def soma(nuns2):\n",
    "    resultado_soma=0\n",
    "    for numero in nuns2:\n",
    "        resultado_soma+=numero\n",
    "    return resultado_soma\n",
    "\n",
    "def sub(*nuns):\n",
    "    resultado_sub=0\n",
    "    for numero in nuns:\n",
    "         resultado_sub-=numero\n",
    "    return resultado_sub\n",
    "\n",
    "def multi(*nuns):\n",
    "    resultado_multi=0\n",
    "    for numero in nuns:\n",
    "        resultado_multi*=numero\n",
    "    return resultado_multi\n",
    "\n",
    "def divisao(x,y):\n",
    "    return x/y if y != 0 else \"Impossível divisão por 0\"\n",
    "\n",
    "def calculadora(operacao, *nuns):\n",
    "    x=nuns\n",
    "    \n",
    "    if operacao == \"soma\":\n",
    "        return soma(x)\n",
    "    elif operacao == \"subtracao\":\n",
    "        return sub(x)\n",
    "    elif operacao == \"multiplicacao\":\n",
    "        return multi(x)\n",
    "    elif operacao == \"divisao\":\n",
    "        return divisao(x)\n",
    "    else:\n",
    "        return \"Operação inválida.\"\n",
    "\n",
    "print(calculadora(\"soma\", 22, 8))\n",
    "print(calculadora(\"divisao\", 22, 8))\n",
    "print(calculadora(\"multiplicacao\", 22, 8))\n",
    "print(calculadora(\"subtracao\", 22, 8))"
   ]
  },
  {
   "cell_type": "markdown",
   "id": "fbc6091c",
   "metadata": {},
   "source": [
    "9. Crie uma função chamada `aplicar_operacao` que receba dois números e uma função como parâmetros.\n",
    "    A função deve aplicar a operação recebida (ex: soma, multiplicação). \n",
    "    Exemplo:\n",
    "\n",
    "    def soma(a, b): return a + b\n",
    "    aplicar_operacao(3, 4, soma)  # deve retornar 7"
   ]
  },
  {
   "cell_type": "code",
   "execution_count": null,
   "id": "9a3cf187",
   "metadata": {},
   "outputs": [],
   "source": [
    "def aplicar_operacao(funcao, x, y):\n",
    "    return funcao(x, y)\n",
    "\n",
    "def soma(x, y):\n",
    "    return x + y\n",
    "def subtracao(x, y):\n",
    "    return x - y\n",
    "def multiplicacao(x, y):\n",
    "    return x * y\n",
    "def divisao(x, y):\n",
    "    return x / y if y != 0 else \"Impossível divisão por 0\"\n",
    "print(aplicar_operacao(soma, 10, 5))          # Saída: 15\n",
    "print(aplicar_operacao(subtracao, 10, 5))     # Saída: 5\n",
    "print(aplicar_operacao(multiplicacao, 10, 5))  # Saída: 50\n",
    "print(aplicar_operacao(divisao, 10, 5))          # Saída: 2.0\n",
    "print(aplicar_operacao(divisao, 10, 0))          # Saída: Impossível divisão por 0  "
   ]
  }
 ],
 "metadata": {
  "kernelspec": {
   "display_name": "Python 3",
   "language": "python",
   "name": "python3"
  },
  "language_info": {
   "codemirror_mode": {
    "name": "ipython",
    "version": 3
   },
   "file_extension": ".py",
   "mimetype": "text/x-python",
   "name": "python",
   "nbconvert_exporter": "python",
   "pygments_lexer": "ipython3",
   "version": "3.12.1"
  }
 },
 "nbformat": 4,
 "nbformat_minor": 5
}
