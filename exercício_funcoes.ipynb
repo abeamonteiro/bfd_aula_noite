{
 "cells": [
  {
   "cell_type": "markdown",
   "id": "5d2f544b",
   "metadata": {},
   "source": [
    "1. Crie uma função chamada `saudacao` que imprime na tela a mensagem **\"Olá, bem-vindo ao Python!\"**. Em seguida, chame a função no programa."
   ]
  },
  {
   "cell_type": "code",
   "execution_count": 1,
   "id": "86846019",
   "metadata": {},
   "outputs": [
    {
     "name": "stdout",
     "output_type": "stream",
     "text": [
      "Olá, tudo bem?\n"
     ]
    }
   ],
   "source": [
    "def saudacao():\n",
    "   print(\"Olá, tudo bem?\") # o ideal é usar o return para passar a informação que a função pretende\n",
    "   \n",
    "saudacao()"
   ]
  },
  {
   "cell_type": "markdown",
   "id": "2b40ddf3",
   "metadata": {},
   "source": [
    "2. Crie uma função chamada `dobro` que recebe um número como parâmetro e retorna o dobro desse número. Teste chamando a função com diferentes valores."
   ]
  },
  {
   "cell_type": "code",
   "execution_count": 4,
   "id": "774c0e6e",
   "metadata": {},
   "outputs": [
    {
     "name": "stdout",
     "output_type": "stream",
     "text": [
      "O dobro do número indicado é 14\n"
     ]
    }
   ],
   "source": [
    "num1 = int(input(\"Digite um número: \"))\n",
    "\n",
    "def dobro(num):\n",
    "      return num*2\n",
    "\n",
    "print(\"O dobro do número indicado é\", (dobro(num1)))"
   ]
  },
  {
   "cell_type": "markdown",
   "id": "f0f106a0",
   "metadata": {},
   "source": [
    "3. Crie uma função chamada `soma` que receba dois números e retorne a soma deles. Depois, use a função para somar **10 + 20**."
   ]
  },
  {
   "cell_type": "code",
   "execution_count": 26,
   "id": "045e7b18",
   "metadata": {},
   "outputs": [
    {
     "name": "stdout",
     "output_type": "stream",
     "text": [
      "A soma dos números indicados é  13\n"
     ]
    }
   ],
   "source": [
    "num1 = int(input(\"Digite um número: \"))\n",
    "num2 = int(input(\"Digite mais um número: \"))\n",
    "\n",
    "def soma(x,y):\n",
    "    return (x+y)\n",
    "\n",
    "print(\"A soma dos números indicados é \", soma(num1, num2))"
   ]
  },
  {
   "cell_type": "code",
   "execution_count": 27,
   "id": "c95d5f0b",
   "metadata": {},
   "outputs": [
    {
     "name": "stdout",
     "output_type": "stream",
     "text": [
      "30\n"
     ]
    }
   ],
   "source": [
    "print(soma(10,20))"
   ]
  },
  {
   "cell_type": "markdown",
   "id": "e51579f0",
   "metadata": {},
   "source": [
    "4. Crie uma função chamada `mensagem` que receba um nome como parâmetro e exiba a mensagem:\n",
    "    \"Olá, \\[nome]!\"\n",
    "    \n",
    "Caso o nome não seja informado, mostre \"Olá, visitante!\"."
   ]
  },
  {
   "cell_type": "code",
   "execution_count": 31,
   "id": "d97dc2d4",
   "metadata": {},
   "outputs": [
    {
     "name": "stdout",
     "output_type": "stream",
     "text": [
      "Olá, bea!\n"
     ]
    }
   ],
   "source": [
    "nome = input(\"Qual o seu nome?\")\n",
    "\n",
    "def mensagem(nome):\n",
    "    return f\"Olá, {nome}!\"\n",
    "\n",
    "print(mensagem(nome))"
   ]
  },
  {
   "cell_type": "markdown",
   "id": "38ed810f",
   "metadata": {},
   "source": [
    "5. Crie uma função chamada `operacoes` que receba dois números e retorne **a soma, a subtração e a multiplicação** deles."
   ]
  },
  {
   "cell_type": "code",
   "execution_count": null,
   "id": "85852a8c",
   "metadata": {},
   "outputs": [
    {
     "name": "stdout",
     "output_type": "stream",
     "text": [
      "O resultado a operação de soma é {soma}, o da subtração é {subtração} e o da multiplicação é {multiplicação}\n"
     ]
    }
   ],
   "source": [
    "num1 = int(input(\"Digite um número: \"))\n",
    "num2 = int(input(\"Digite mais um número: \"))\n",
    "\n",
    "def operacoes(x, y, z):\n",
    "    return(num1+num2, num2-num1, num1*num2)\n",
    "\n",
    "print(\"Os resultados, respectivamente, da soma, subtração e multiplicação é:\", operacoes(x,y ))"
   ]
  },
  {
   "cell_type": "markdown",
   "id": "e9d5a00e",
   "metadata": {},
   "source": [
    "6. Crie uma função chamada `media` que receba uma quantidade variável de números e retorne a média deles.\n",
    "Teste com 3, 5 e 7 valores diferentes."
   ]
  },
  {
   "cell_type": "markdown",
   "id": "7ad13d4d",
   "metadata": {},
   "source": [
    " 7. Crie uma função chamada `dados_pessoais` que receba informações de uma pessoa (nome, idade, cidade, etc.) usando `**kwargs` e imprima cada dado em uma linha.\n",
    "   Exemplo de chamada:\n",
    "\n",
    "   dados_pessoais(nome=\"Ana\", idade=25, cidade=\"Recife\")"
   ]
  },
  {
   "cell_type": "markdown",
   "id": "eeb16c0f",
   "metadata": {},
   "source": [
    "8. Crie uma função chamada `calculadora` que tenha dentro dela outras funções (`somar`, `subtrair`, `multiplicar`, `dividir`).\n",
    "   A função principal deve permitir escolher a operação e retornar o resultado.\n"
   ]
  },
  {
   "cell_type": "markdown",
   "id": "fbc6091c",
   "metadata": {},
   "source": [
    "9. Crie uma função chamada `aplicar_operacao` que receba dois números e uma função como parâmetros.\n",
    "    A função deve aplicar a operação recebida (ex: soma, multiplicação). \n",
    "    Exemplo:\n",
    "\n",
    "    def soma(a, b): return a + b\n",
    "    aplicar_operacao(3, 4, soma)  # deve retornar 7"
   ]
  }
 ],
 "metadata": {
  "kernelspec": {
   "display_name": "Python 3",
   "language": "python",
   "name": "python3"
  },
  "language_info": {
   "codemirror_mode": {
    "name": "ipython",
    "version": 3
   },
   "file_extension": ".py",
   "mimetype": "text/x-python",
   "name": "python",
   "nbconvert_exporter": "python",
   "pygments_lexer": "ipython3",
   "version": "3.12.1"
  }
 },
 "nbformat": 4,
 "nbformat_minor": 5
}
